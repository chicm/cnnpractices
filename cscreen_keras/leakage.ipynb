{
 "cells": [
  {
   "cell_type": "code",
   "execution_count": 1,
   "metadata": {
    "collapsed": true
   },
   "outputs": [],
   "source": [
    "%matplotlib inline\n",
    "import os\n",
    "import numpy as np \n",
    "import pandas as pd \n",
    "import glob\n",
    "import hashlib\n",
    "from scipy.misc import imresize\n",
    "import matplotlib.pyplot as plt\n",
    "import seaborn as sns"
   ]
  },
  {
   "cell_type": "code",
   "execution_count": 5,
   "metadata": {
    "collapsed": false
   },
   "outputs": [
    {
     "name": "stdout",
     "output_type": "stream",
     "text": [
      "computing md5 of training data:\n",
      "/home/chicm/data/cervc/full/train\n",
      "7025\n",
      "['Type_1/5770.jpg', 'Type_1/6360.jpg', 'Type_1/3811.jpg', 'Type_1/6096.jpg', 'Type_1/1580.jpg']\n",
      "/home/chicm/data/cervc/full/valid\n",
      "600\n",
      "['Type_1/560.jpg', 'Type_1/3049.jpg', 'Type_1/2749.jpg', 'Type_1/6420.jpg', 'Type_1/5983.jpg']\n",
      "7622\n"
     ]
    }
   ],
   "source": [
    "hashes = {}\n",
    "labels = {} #map fname -> label\n",
    "\n",
    "print('computing md5 of training data:')\n",
    "base_dir = '/home/chicm/data/cervc/full'\n",
    "\n",
    "for sub_dir in ['train', 'valid']:\n",
    "    cur_dir = base_dir+'/'+sub_dir\n",
    "    os.chdir(cur_dir)\n",
    "    print(cur_dir)\n",
    "    file_names = glob.glob(\"*/*.jpg\")\n",
    "    print len(file_names)\n",
    "    print file_names[:5]\n",
    "    \n",
    "    for fname in file_names:\n",
    "        labels[fname] = fname.split('/')[-2]\n",
    "        h = hashlib.md5(open(fname, 'rb').read()).digest()        \n",
    "        if h in hashes:\n",
    "            hashes[h].append(fname)            \n",
    "        else:\n",
    "            hashes[h] = [fname]\n",
    "print(len(hashes))   "
   ]
  },
  {
   "cell_type": "code",
   "execution_count": 6,
   "metadata": {
    "collapsed": false
   },
   "outputs": [
    {
     "name": "stdout",
     "output_type": "stream",
     "text": [
      "files appearing more than once in train + additional:\n",
      "3\n"
     ]
    }
   ],
   "source": [
    "repeated = sum(1 for k,v in hashes.items() if len(v) > 1)\n",
    "print(\"files appearing more than once in train + additional:\")\n",
    "print(repeated)"
   ]
  },
  {
   "cell_type": "code",
   "execution_count": 9,
   "metadata": {
    "collapsed": false
   },
   "outputs": [
    {
     "name": "stdout",
     "output_type": "stream",
     "text": [
      "identical files with different labels:\n",
      "('i\\xa9\\x97D\\xfa\\x04\\x80\\xcd\\xe7\\xf7`\\xab\\xfdHq\\xde', ['Type_1/1822.jpg', 'Type_1/1131.jpg'])\n",
      "('\\x94\\xb9H\\xee\\xd4V\\xb9\\xb4\\xcb\\xc4\\xc1|\\x1d\\xa5\\t\\xb2', ['Type_2/2613.jpg', 'Type_2/1011.jpg'])\n",
      "('\\x9b\\x97\\x865?\\x10\\x8d\\xcb3U\\xb5\\xc81\\x9bx\\xd3', ['Type_1/2010.jpg', 'Type_1/1220.jpg'])\n"
     ]
    }
   ],
   "source": [
    "print(\"identical files with different labels:\")\n",
    "for k,v in hashes.items():\n",
    "    if len(v) > 1:\n",
    "        print(k,v)\n",
    "        "
   ]
  },
  {
   "cell_type": "code",
   "execution_count": 7,
   "metadata": {
    "collapsed": false
   },
   "outputs": [
    {
     "name": "stdout",
     "output_type": "stream",
     "text": [
      "identical files with different labels:\n"
     ]
    }
   ],
   "source": [
    "print(\"identical files with different labels:\")\n",
    "for k,v in hashes.items():\n",
    "    if len(v) > 1:\n",
    "        c = set([labels[x] for x in v])\n",
    "        if len(c) > 1:\n",
    "            print(v, c)"
   ]
  },
  {
   "cell_type": "code",
   "execution_count": 8,
   "metadata": {
    "collapsed": false
   },
   "outputs": [
    {
     "name": "stdout",
     "output_type": "stream",
     "text": [
      "[('/home/chicm/data/cervc/orig/test/unknown/434.jpg', ['Type_2/2414.jpg']), ('/home/chicm/data/cervc/orig/test/unknown/380.jpg', ['Type_3/1799.jpg'])]\n"
     ]
    }
   ],
   "source": [
    "# find test files also present in training data\n",
    "leaks = []\n",
    "for fname in glob.glob(\"/home/chicm/data/cervc/orig/test/unknown/*jpg\"):\n",
    "    h = hashlib.md5(open(fname, 'rb').read()).digest()\n",
    "    if h in hashes:\n",
    "        leaks.append((fname, hashes[h]))\n",
    "        \n",
    "print leaks"
   ]
  },
  {
   "cell_type": "code",
   "execution_count": null,
   "metadata": {
    "collapsed": true
   },
   "outputs": [],
   "source": []
  }
 ],
 "metadata": {
  "anaconda-cloud": {},
  "kernelspec": {
   "display_name": "Python [conda root]",
   "language": "python",
   "name": "conda-root-py"
  },
  "language_info": {
   "codemirror_mode": {
    "name": "ipython",
    "version": 2
   },
   "file_extension": ".py",
   "mimetype": "text/x-python",
   "name": "python",
   "nbconvert_exporter": "python",
   "pygments_lexer": "ipython2",
   "version": "2.7.13"
  }
 },
 "nbformat": 4,
 "nbformat_minor": 2
}
